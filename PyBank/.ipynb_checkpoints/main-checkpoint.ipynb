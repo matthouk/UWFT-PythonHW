{
 "cells": [
  {
   "attachments": {
    "0969587b-03a4-4b79-88c3-3ee2dd60d036.png": {
     "image/png": "[encoded data removed]"
    }
   },
   "cell_type": "markdown",
   "metadata": {},
   "source": [
    "![pythonsymbol.png](attachment:0969587b-03a4-4b79-88c3-3ee2dd60d036.png) \n",
    "# PyBank \n",
    "Python-Homework\n",
    "\n",
    "Author: Matt Houk"
   ]
  },
  {
   "cell_type": "code",
   "execution_count": 16,
   "metadata": {},
   "outputs": [
    {
     "name": "stdout",
     "output_type": "stream",
     "text": [
      "Financial Analysis \n",
      "------------------\n",
      "The total number of months included in the data set is: 86\n",
      "The total profit/loss for the entire data set is: $38382578\n",
      "The average change is: $-2315.12\n",
      "The max profit is $1926159, on this date: Feb-2012 \n",
      "The max profit is $-2196167, on this date: Sep-2013 \n"
     ]
    }
   ],
   "source": [
    "# Import the necessary libraries for reading csv files\n",
    "import os\n",
    "import csv\n",
    "\n",
    "# Set the path for the csv file\n",
    "csvpath = os.path.join(\"budget_data.csv\")\n",
    "\n",
    "# open file and set first line as a header\n",
    "with open(csvpath, newline=\"\") as csvfile:\n",
    "    csvreader = csv.reader(csvfile, delimiter=\",\")\n",
    "    csv_header = next(csvreader)\n",
    "    # test the open, set as comment once it work \n",
    "#    for row in csvreader:\n",
    "#       print(row)\n",
    "    # set variables for the questions: \n",
    "    row_count = 0\n",
    "    pnl_total = 0\n",
    "    pnl_last = 0 \n",
    "    pnl_change = 0\n",
    "    pnl_change_total = 0\n",
    "    pnl_avg_change = 0\n",
    "    max_profit = 0\n",
    "    max_profit_date = 0\n",
    "    for row in csvreader: \n",
    "        # Calculate total number of months included in the data set. Note that each row is a new month\n",
    "        row_count += 1\n",
    "        # Calculate the net total amount of Profit/Losses over the entire period \n",
    "        pnl_total += int(row[1])\n",
    "        # Calculate the averages of the changes in PNL over the entire period \n",
    "        if pnl_last == 0: \n",
    "            pnl_last = int(row[1])\n",
    "        elif pnl_last != 0: \n",
    "            pnl_change = int(row[1]) - pnl_last \n",
    "            pnl_change_total += pnl_change\n",
    "            pnl_last = int(row[1])\n",
    "        # Calculate the greatest increase in profits (date and amount) over the entire period.\n",
    "        if pnl_change == 0: \n",
    "            max_profit = pnl_change\n",
    "            max_date = row\n",
    "        elif pnl_change > max_profit :\n",
    "            max_profit = pnl_change\n",
    "            max_date = row\n",
    "        if pnl_change == 0: \n",
    "            min_profit = pnl_change\n",
    "            min_date = row\n",
    "        elif pnl_change < min_profit :\n",
    "            min_profit = pnl_change\n",
    "            min_date = row\n",
    "    pnl_average_change = pnl_change_total / (row_count -1)\n",
    "    print(f'Financial Analysis \\n------------------')\n",
    "    print(f'The total number of months included in the data set is: {row_count}')\n",
    "    print(f'The total profit/loss for the entire data set is: ${pnl_total}')\n",
    "    print(f'The average change is: ${pnl_average_change:.2f}')\n",
    "    print(f'The max profit is ${max_profit}, on this date: {max_date[0]} ')\n",
    "    print(f'The max profit is ${min_profit}, on this date: {min_date[0]} ')\n",
    "\n"
   ]
  },
  {
   "cell_type": "code",
   "execution_count": null,
   "metadata": {},
   "outputs": [],
   "source": []
  }
 ],
 "metadata": {
  "kernelspec": {
   "display_name": "Python 3",
   "language": "python",
   "name": "python3"
  },
  "language_info": {
   "codemirror_mode": {
    "name": "ipython",
    "version": 3
   },
   "file_extension": ".py",
   "mimetype": "text/x-python",
   "name": "python",
   "nbconvert_exporter": "python",
   "pygments_lexer": "ipython3",
   "version": "3.8.3"
  }
 },
 "nbformat": 4,
 "nbformat_minor": 4
}
